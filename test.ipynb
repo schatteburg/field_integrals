{
 "cells": [
  {
   "cell_type": "code",
   "execution_count": 1,
   "metadata": {},
   "outputs": [],
   "source": [
    "import numpy as np\n",
    "from matplotlib import pyplot as plt\n",
    "from importlib import reload\n",
    "import overlap_integrals as oi"
   ]
  },
  {
   "cell_type": "code",
   "execution_count": 86,
   "metadata": {},
   "outputs": [
    {
     "data": {
      "text/plain": [
       "<module 'overlap_integrals' from '/home/tom/Documents/git-repos/overlap_integrals/overlap_integrals.py'>"
      ]
     },
     "execution_count": 86,
     "metadata": {},
     "output_type": "execute_result"
    }
   ],
   "source": [
    "reload(oi)"
   ]
  },
  {
   "cell_type": "code",
   "execution_count": 87,
   "metadata": {},
   "outputs": [],
   "source": [
    "xs = np.linspace(0,100,200)\n",
    "ys = np.linspace(0,100,201)\n",
    "zs = np.linspace(0,100,203)\n",
    "# Xs, Ys = np.meshgrid(xs, ys, indexing='ij')\n",
    "Xs, Ys, Zs = np.meshgrid(xs, ys, zs, indexing='ij')"
   ]
  },
  {
   "cell_type": "code",
   "execution_count": 88,
   "metadata": {},
   "outputs": [],
   "source": [
    "# fw_gauss = np.exp(-(Xs**2+Ys**2))/2**2\n",
    "# mygauss = oi.field(fieldvalues=fw_gauss, var=[xs,ys], coord_sys=\"cartesian\")\n",
    "fw_gauss = np.exp(-(Xs**2+Ys**2+Zs**2))/2**2\n",
    "mygauss = oi.field(fieldvalues=fw_gauss, var=[xs,ys,zs], coord_sys=\"cartesian\")\n",
    "fw_sphere = 1* (np.sqrt(Xs**2+Ys**2+Zs**2) <= 50)\n",
    "mysphere = oi.field(fieldvalues=fw_sphere, var=[xs,ys,zs], coord_sys=\"cartesian\")"
   ]
  },
  {
   "cell_type": "code",
   "execution_count": 89,
   "metadata": {},
   "outputs": [
    {
     "name": "stdout",
     "output_type": "stream",
     "text": [
      "integrating dimension 2\n",
      "integrating dimension 1\n",
      "integrating dimension 0\n"
     ]
    },
    {
     "data": {
      "text/plain": [
       "0.1740102499009909"
      ]
     },
     "execution_count": 89,
     "metadata": {},
     "output_type": "execute_result"
    }
   ],
   "source": [
    "mygauss.integrate_all_dimensions()"
   ]
  },
  {
   "cell_type": "code",
   "execution_count": 90,
   "metadata": {},
   "outputs": [
    {
     "name": "stdout",
     "output_type": "stream",
     "text": [
      "integrating dimension 2\n",
      "integrating dimension 1\n",
      "integrating dimension 0\n"
     ]
    },
    {
     "data": {
      "text/plain": [
       "65447.736827702865"
      ]
     },
     "execution_count": 90,
     "metadata": {},
     "output_type": "execute_result"
    }
   ],
   "source": [
    "mysphere.integrate_all_dimensions()"
   ]
  },
  {
   "cell_type": "code",
   "execution_count": 91,
   "metadata": {},
   "outputs": [
    {
     "data": {
      "text/plain": [
       "65449.84694978735"
      ]
     },
     "execution_count": 91,
     "metadata": {},
     "output_type": "execute_result"
    }
   ],
   "source": [
    "4/3*np.pi*50**3 / 8"
   ]
  },
  {
   "cell_type": "code",
   "execution_count": 2,
   "metadata": {},
   "outputs": [],
   "source": [
    "Rmax = 75\n",
    "rs = np.linspace(0,Rmax,500)\n",
    "phis = np.linspace(0,2*np.pi,501)\n",
    "zs = np.linspace(0,100,403)\n",
    "Rs, Phis, Zs = np.meshgrid(rs, phis, zs, indexing='ij')"
   ]
  },
  {
   "cell_type": "code",
   "execution_count": 97,
   "metadata": {},
   "outputs": [
    {
     "data": {
      "text/plain": [
       "<module 'overlap_integrals' from '/home/tom/Documents/git-repos/overlap_integrals/overlap_integrals.py'>"
      ]
     },
     "execution_count": 97,
     "metadata": {},
     "output_type": "execute_result"
    }
   ],
   "source": [
    "reload(oi)"
   ]
  },
  {
   "cell_type": "code",
   "execution_count": 3,
   "metadata": {},
   "outputs": [],
   "source": [
    "fw_cyl = 1* (Rs <= 50) & (Zs <= 20)\n",
    "mysphere_cyl = oi.field(fieldvalues=fw_cyl, var=[rs,phis,zs], coord_sys=\"cylindrical\")"
   ]
  },
  {
   "cell_type": "code",
   "execution_count": 4,
   "metadata": {},
   "outputs": [
    {
     "name": "stdout",
     "output_type": "stream",
     "text": [
      "integrating dimension 2\n",
      "integrating dimension 1\n",
      "integrating dimension 0\n"
     ]
    },
    {
     "data": {
      "text/plain": [
       "157117.09935922787"
      ]
     },
     "execution_count": 4,
     "metadata": {},
     "output_type": "execute_result"
    }
   ],
   "source": [
    "mysphere_cyl.integrate_all_dimensions()"
   ]
  },
  {
   "cell_type": "code",
   "execution_count": 5,
   "metadata": {},
   "outputs": [
    {
     "data": {
      "text/plain": [
       "157079.63267948967"
      ]
     },
     "execution_count": 5,
     "metadata": {},
     "output_type": "execute_result"
    }
   ],
   "source": [
    "np.pi*50**2*20"
   ]
  },
  {
   "cell_type": "code",
   "execution_count": null,
   "metadata": {},
   "outputs": [],
   "source": []
  }
 ],
 "metadata": {
  "kernelspec": {
   "display_name": "Python 3",
   "language": "python",
   "name": "python3"
  },
  "language_info": {
   "codemirror_mode": {
    "name": "ipython",
    "version": 3
   },
   "file_extension": ".py",
   "mimetype": "text/x-python",
   "name": "python",
   "nbconvert_exporter": "python",
   "pygments_lexer": "ipython3",
   "version": "3.10.12"
  }
 },
 "nbformat": 4,
 "nbformat_minor": 2
}
