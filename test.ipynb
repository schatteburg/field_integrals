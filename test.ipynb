{
 "cells": [
  {
   "cell_type": "code",
   "execution_count": 112,
   "metadata": {},
   "outputs": [],
   "source": [
    "import numpy as np\n",
    "from matplotlib import pyplot as plt\n",
    "from importlib import reload\n",
    "import overlap_integrals as oi"
   ]
  },
  {
   "cell_type": "code",
   "execution_count": 113,
   "metadata": {},
   "outputs": [
    {
     "data": {
      "text/plain": [
       "<module 'overlap_integrals' from '/home/tom/Documents/git-repos/overlap_integrals/overlap_integrals.py'>"
      ]
     },
     "execution_count": 113,
     "metadata": {},
     "output_type": "execute_result"
    }
   ],
   "source": [
    "reload(oi)"
   ]
  },
  {
   "cell_type": "code",
   "execution_count": 114,
   "metadata": {},
   "outputs": [],
   "source": [
    "xs = np.linspace(0,100,200)\n",
    "ys = np.linspace(0,100,201)\n",
    "zs = np.linspace(0,100,203)\n",
    "Xs, Ys = np.meshgrid(xs, ys, indexing='ij')\n",
    "# Xs, Ys, Zs = np.meshgrid(xs, ys, zs, indexing='ij')"
   ]
  },
  {
   "cell_type": "code",
   "execution_count": 115,
   "metadata": {},
   "outputs": [],
   "source": [
    "fw_gauss = np.exp(-(Xs**2+Ys**2))/2**2\n",
    "# mygauss = oi.field(fieldvalues=fw_gauss, var=[xs,ys], coord_sys=\"cartesian\")\n",
    "mygauss = oi.field(fieldvalues=fw_gauss, coordinates={\"x\": xs, \"y\": ys})\n",
    "# fw_gauss = np.exp(-(Xs**2+Ys**2+Zs**2))/2**2\n",
    "# mygauss = oi.field(fieldvalues=fw_gauss, coordinates=[xs,ys,zs], dims=[\"x\",'y','z'])\n",
    "# mygauss = oi.field(fieldvalues=fw_gauss, coordinates={\"x\": xs, \"y\": ys, \"z\": zs})\n",
    "# fw_sphere = 1* (np.sqrt(Xs**2+Ys**2+Zs**2) <= 50)\n",
    "# mysphere = oi.field(fieldvalues=fw_sphere, coordinates=[xs,ys,zs], coord_sys=\"cartesian\")\n",
    "# mysphere = oi.field(fieldvalues=fw_sphere, coordinates={\"x\": xs, \"y\": ys, \"z\": zs})"
   ]
  },
  {
   "cell_type": "code",
   "execution_count": 16,
   "metadata": {},
   "outputs": [
    {
     "name": "stderr",
     "output_type": "stream",
     "text": [
      "/home/tom/Documents/git-repos/overlap_integrals/overlap_integrals.py:165: RuntimeWarning: invalid value encountered in divide\n",
      "  return field(self.values*other.values, self.coordinates)\n"
     ]
    },
    {
     "data": {
      "text/plain": [
       "field in 3D, coordinates ['x', 'y', 'z'], with shape (200, 201, 203)"
      ]
     },
     "execution_count": 16,
     "metadata": {},
     "output_type": "execute_result"
    }
   ],
   "source": [
    "mygauss + mysphere\n",
    "mygauss - mysphere\n",
    "mygauss * mysphere\n",
    "mygauss / mysphere"
   ]
  },
  {
   "cell_type": "code",
   "execution_count": 116,
   "metadata": {},
   "outputs": [
    {
     "name": "stdout",
     "output_type": "stream",
     "text": [
      "integrating dimension 0: x from 0.0 to 100.0\n",
      "integrating dimension 1: y from 0.0 to 100.0\n"
     ]
    },
    {
     "data": {
      "text/plain": [
       "0.19634954084936207"
      ]
     },
     "execution_count": 116,
     "metadata": {},
     "output_type": "execute_result"
    }
   ],
   "source": [
    "mygauss.integrate_all_dimensions(vocal=True)"
   ]
  },
  {
   "cell_type": "code",
   "execution_count": 117,
   "metadata": {},
   "outputs": [
    {
     "name": "stdout",
     "output_type": "stream",
     "text": [
      "integrating dimension 0: x from 0.0 to 100.0\n",
      "integrating dimension 1: y from 0.0 to 100.0\n"
     ]
    },
    {
     "data": {
      "text/plain": [
       "1.0000000000000002"
      ]
     },
     "execution_count": 117,
     "metadata": {},
     "output_type": "execute_result"
    }
   ],
   "source": [
    "mygauss.normalize().integrate_all_dimensions(vocal=True)"
   ]
  },
  {
   "cell_type": "code",
   "execution_count": 118,
   "metadata": {},
   "outputs": [
    {
     "data": {
      "text/plain": [
       "1.2533141298798713"
      ]
     },
     "execution_count": 118,
     "metadata": {},
     "output_type": "execute_result"
    }
   ],
   "source": [
    "mygauss.normalize_abs2().integrate_all_dimensions()"
   ]
  },
  {
   "cell_type": "code",
   "execution_count": 119,
   "metadata": {},
   "outputs": [
    {
     "data": {
      "text/plain": [
       "1.0000000000000002"
      ]
     },
     "execution_count": 119,
     "metadata": {},
     "output_type": "execute_result"
    }
   ],
   "source": [
    "(abs(mygauss.normalize_abs2())**2).integrate_all_dimensions()"
   ]
  },
  {
   "cell_type": "code",
   "execution_count": 120,
   "metadata": {},
   "outputs": [
    {
     "ename": "NameError",
     "evalue": "name 'mysphere' is not defined",
     "output_type": "error",
     "traceback": [
      "\u001b[0;31m---------------------------------------------------------------------------\u001b[0m",
      "\u001b[0;31mNameError\u001b[0m                                 Traceback (most recent call last)",
      "\u001b[1;32m/home/tom/Documents/git-repos/overlap_integrals/test.ipynb Cell 10\u001b[0m line \u001b[0;36m1\n\u001b[0;32m----> <a href='vscode-notebook-cell:/home/tom/Documents/git-repos/overlap_integrals/test.ipynb#X14sZmlsZQ%3D%3D?line=0'>1</a>\u001b[0m mygauss \u001b[39m==\u001b[39m mysphere\n",
      "\u001b[0;31mNameError\u001b[0m: name 'mysphere' is not defined"
     ]
    }
   ],
   "source": [
    "mygauss == mysphere"
   ]
  },
  {
   "cell_type": "code",
   "execution_count": null,
   "metadata": {},
   "outputs": [],
   "source": [
    "mysphere.integrate_all_dimensions()"
   ]
  },
  {
   "cell_type": "code",
   "execution_count": 122,
   "metadata": {},
   "outputs": [
    {
     "data": {
      "text/plain": [
       "65449.84694978735"
      ]
     },
     "execution_count": 122,
     "metadata": {},
     "output_type": "execute_result"
    }
   ],
   "source": [
    "4/3*np.pi*50**3 / 8"
   ]
  },
  {
   "cell_type": "code",
   "execution_count": 123,
   "metadata": {},
   "outputs": [],
   "source": [
    "Rmax = 75\n",
    "rs = np.linspace(0,Rmax,200)\n",
    "phis = np.linspace(0,2*np.pi,201)\n",
    "zs = np.linspace(0,100,203)\n",
    "Rs, Phis, Zs = np.meshgrid(rs, phis, zs, indexing='ij')"
   ]
  },
  {
   "cell_type": "code",
   "execution_count": 79,
   "metadata": {},
   "outputs": [
    {
     "data": {
      "text/plain": [
       "<module 'overlap_integrals' from '/home/tom/Documents/git-repos/overlap_integrals/overlap_integrals.py'>"
      ]
     },
     "execution_count": 79,
     "metadata": {},
     "output_type": "execute_result"
    }
   ],
   "source": [
    "reload(oi)"
   ]
  },
  {
   "cell_type": "code",
   "execution_count": 124,
   "metadata": {},
   "outputs": [
    {
     "name": "stdout",
     "output_type": "stream",
     "text": [
      "field in 3D, cylindrical coordinates ['r', 'phi', 'z'], with shape (200, 201, 203)\n"
     ]
    }
   ],
   "source": [
    "fw_cyl = 1* (Rs <= 50) & (Zs <= 20)\n",
    "mysphere_cyl = oi.field(fieldvalues=fw_cyl, coordinates={\"r\": rs, \"phi\": phis, \"z\": zs}, vocal=True)\n",
    "# mysphere_cyl = oi.field(fieldvalues=fw_cyl, var=[rs,phis,zs], coord_sys=\"cylindrical\")"
   ]
  },
  {
   "cell_type": "code",
   "execution_count": 125,
   "metadata": {},
   "outputs": [
    {
     "name": "stdout",
     "output_type": "stream",
     "text": [
      "integrating dimension 0: r from 0.0 to 75.0\n",
      "integrating dimension 1: phi from 0.0 to 6.283185307179586\n",
      "integrating dimension 2: z from 0.0 to 100.0\n"
     ]
    },
    {
     "data": {
      "text/plain": [
       "157070.80610784283"
      ]
     },
     "execution_count": 125,
     "metadata": {},
     "output_type": "execute_result"
    }
   ],
   "source": [
    "mysphere_cyl.integrate_all_dimensions(vocal=True)"
   ]
  },
  {
   "cell_type": "code",
   "execution_count": 126,
   "metadata": {},
   "outputs": [
    {
     "name": "stdout",
     "output_type": "stream",
     "text": [
      "integrating dimension 0: r from 0.0 to 75.0\n",
      "integrating dimension 1: z from 0.0 to 100.0\n",
      "integrating dimension 2: phi from 0.0 to 6.283185307179586\n"
     ]
    },
    {
     "data": {
      "text/plain": [
       "157070.80610784225"
      ]
     },
     "execution_count": 126,
     "metadata": {},
     "output_type": "execute_result"
    }
   ],
   "source": [
    "mysphere_cyl.integrate_dimensions([\"r\",'z','phi'], vocal=True)"
   ]
  },
  {
   "cell_type": "code",
   "execution_count": 127,
   "metadata": {},
   "outputs": [
    {
     "data": {
      "text/plain": [
       "0.9999999999999925"
      ]
     },
     "execution_count": 127,
     "metadata": {},
     "output_type": "execute_result"
    }
   ],
   "source": [
    "mysphere_cyl.normalize().integrate_all_dimensions()"
   ]
  },
  {
   "cell_type": "code",
   "execution_count": 128,
   "metadata": {},
   "outputs": [
    {
     "data": {
      "text/plain": [
       "396.32159429917715"
      ]
     },
     "execution_count": 128,
     "metadata": {},
     "output_type": "execute_result"
    }
   ],
   "source": [
    "mysphere_cyl.normalize_abs2().integrate_all_dimensions()"
   ]
  },
  {
   "cell_type": "code",
   "execution_count": 129,
   "metadata": {},
   "outputs": [
    {
     "data": {
      "text/plain": [
       "0.9999999999999925"
      ]
     },
     "execution_count": 129,
     "metadata": {},
     "output_type": "execute_result"
    }
   ],
   "source": [
    "(abs(mysphere_cyl.normalize_abs2())**2).integrate_all_dimensions()"
   ]
  },
  {
   "cell_type": "code",
   "execution_count": 130,
   "metadata": {},
   "outputs": [
    {
     "data": {
      "text/plain": [
       "157079.63267948967"
      ]
     },
     "execution_count": 130,
     "metadata": {},
     "output_type": "execute_result"
    }
   ],
   "source": [
    "np.pi*50**2*20"
   ]
  },
  {
   "cell_type": "code",
   "execution_count": 131,
   "metadata": {},
   "outputs": [
    {
     "data": {
      "text/plain": [
       "<module 'overlap_integrals' from '/home/tom/Documents/git-repos/overlap_integrals/overlap_integrals.py'>"
      ]
     },
     "execution_count": 131,
     "metadata": {},
     "output_type": "execute_result"
    }
   ],
   "source": [
    "reload(oi)"
   ]
  },
  {
   "cell_type": "code",
   "execution_count": 103,
   "metadata": {},
   "outputs": [],
   "source": [
    "Rmax = 75\n",
    "rs = np.linspace(0,Rmax,200)\n",
    "thetas = np.linspace(0,np.pi,203)\n",
    "phis = np.linspace(0,2*np.pi,201)\n",
    "Rs, Thetas, Phis = np.meshgrid(rs,thetas, phis, indexing='ij')"
   ]
  },
  {
   "cell_type": "code",
   "execution_count": 104,
   "metadata": {},
   "outputs": [
    {
     "name": "stdout",
     "output_type": "stream",
     "text": [
      "field in 3D, spherical coordinates ['r', 'theta', 'phi'], with shape (200, 203, 201)\n"
     ]
    }
   ],
   "source": [
    "fw_sph = 1* (Rs <= 50) & (Thetas <= np.pi/2) & (Phis <= np.pi/2)\n",
    "mysphere_sph = oi.field(fieldvalues=fw_sph, coordinates={\"r\": rs, \"theta\": thetas, \"phi\": phis}, vocal=True)"
   ]
  },
  {
   "cell_type": "code",
   "execution_count": 105,
   "metadata": {},
   "outputs": [
    {
     "name": "stdout",
     "output_type": "stream",
     "text": [
      "integrating dimension 0: r from 0.0 to 75.0\n",
      "integrating dimension 1: phi from 0.0 to 6.283185307179586\n"
     ]
    },
    {
     "ename": "ValueError",
     "evalue": "Number of points per dimension don't match between input variables.",
     "output_type": "error",
     "traceback": [
      "\u001b[0;31m---------------------------------------------------------------------------\u001b[0m",
      "\u001b[0;31mValueError\u001b[0m                                Traceback (most recent call last)",
      "\u001b[1;32m/home/tom/Documents/git-repos/overlap_integrals/test.ipynb Cell 25\u001b[0m line \u001b[0;36m1\n\u001b[0;32m----> <a href='vscode-notebook-cell:/home/tom/Documents/git-repos/overlap_integrals/test.ipynb#X53sZmlsZQ%3D%3D?line=0'>1</a>\u001b[0m mysphere_sph\u001b[39m.\u001b[39;49mintegrate_dimensions([\u001b[39m\"\u001b[39;49m\u001b[39mr\u001b[39;49m\u001b[39m\"\u001b[39;49m,\u001b[39m'\u001b[39;49m\u001b[39mphi\u001b[39;49m\u001b[39m'\u001b[39;49m], vocal\u001b[39m=\u001b[39;49m\u001b[39mTrue\u001b[39;49;00m)\n",
      "File \u001b[0;32m~/Documents/git-repos/overlap_integrals/overlap_integrals.py:149\u001b[0m, in \u001b[0;36mfield.integrate_dimensions\u001b[0;34m(self, dims, limits, vocal)\u001b[0m\n\u001b[1;32m    147\u001b[0m \u001b[39melse\u001b[39;00m:\n\u001b[1;32m    148\u001b[0m     new_coodinate_system \u001b[39m=\u001b[39m \u001b[39mNone\u001b[39;00m\n\u001b[0;32m--> 149\u001b[0m \u001b[39mreturn\u001b[39;00m field(integrand, {dim: \u001b[39mself\u001b[39;49m\u001b[39m.\u001b[39;49mcoordinates[dim] \u001b[39mfor\u001b[39;49;00m dim \u001b[39min\u001b[39;49;00m \u001b[39mself\u001b[39;49m\u001b[39m.\u001b[39;49mdims \u001b[39mif\u001b[39;49;00m dim \u001b[39mnot\u001b[39;49;00m \u001b[39min\u001b[39;49;00m dims}, coordinate_system\u001b[39m=\u001b[39;49mnew_coodinate_system, vocal\u001b[39m=\u001b[39;49mvocal)\n",
      "File \u001b[0;32m~/Documents/git-repos/overlap_integrals/overlap_integrals.py:34\u001b[0m, in \u001b[0;36mfield.__init__\u001b[0;34m(self, fieldvalues, coordinates, coordinate_system, vocal)\u001b[0m\n\u001b[1;32m     32\u001b[0m \u001b[39m# check whether number of points per dimension match between inputs\u001b[39;00m\n\u001b[1;32m     33\u001b[0m \u001b[39mif\u001b[39;00m \u001b[39mnot\u001b[39;00m fieldvalues\u001b[39m.\u001b[39mshape \u001b[39m==\u001b[39m \u001b[39mtuple\u001b[39m(v\u001b[39m.\u001b[39msize \u001b[39mfor\u001b[39;00m dim, v \u001b[39min\u001b[39;00m coordinates\u001b[39m.\u001b[39mitems()):\n\u001b[0;32m---> 34\u001b[0m     \u001b[39mraise\u001b[39;00m \u001b[39mValueError\u001b[39;00m(\u001b[39mf\u001b[39m\u001b[39m\"\u001b[39m\u001b[39mNumber of points per dimension don\u001b[39m\u001b[39m'\u001b[39m\u001b[39mt match between input variables.\u001b[39m\u001b[39m\"\u001b[39m)\n\u001b[1;32m     35\u001b[0m \u001b[39melse\u001b[39;00m:\n\u001b[1;32m     36\u001b[0m     \u001b[39mself\u001b[39m\u001b[39m.\u001b[39mshape \u001b[39m=\u001b[39m fieldvalues\u001b[39m.\u001b[39mshape\n",
      "\u001b[0;31mValueError\u001b[0m: Number of points per dimension don't match between input variables."
     ]
    }
   ],
   "source": [
    "mysphere_sph.integrate_dimensions([\"r\",'phi'], vocal=True)"
   ]
  },
  {
   "cell_type": "code",
   "execution_count": 106,
   "metadata": {},
   "outputs": [
    {
     "name": "stdout",
     "output_type": "stream",
     "text": [
      "integrating dimension 0: theta from 0.0 to 3.141592653589793\n",
      "field in 2D, spherical coordinates ['r', 'phi'], with shape (200, 201)\n",
      "integrating dimension 0: r from 0.0 to 75.0\n",
      "integrating dimension 1: phi from 0.0 to 6.283185307179586\n"
     ]
    },
    {
     "data": {
      "text/plain": [
       "65051.190341146576"
      ]
     },
     "execution_count": 106,
     "metadata": {},
     "output_type": "execute_result"
    }
   ],
   "source": [
    "mysphere_sph.integrate_dimensions([\"theta\"], vocal=True).integrate_dimensions([\"r\",'phi'], vocal=True)"
   ]
  },
  {
   "cell_type": "code",
   "execution_count": 107,
   "metadata": {},
   "outputs": [
    {
     "name": "stdout",
     "output_type": "stream",
     "text": [
      "integrating dimension 0: r from 0.0 to 75.0\n",
      "integrating dimension 1: theta from 0.0 to 3.141592653589793\n",
      "integrating dimension 2: phi from 0.0 to 6.283185307179586\n"
     ]
    },
    {
     "data": {
      "text/plain": [
       "65051.190341146605"
      ]
     },
     "execution_count": 107,
     "metadata": {},
     "output_type": "execute_result"
    }
   ],
   "source": [
    "mysphere_sph.integrate_all_dimensions(vocal=True)"
   ]
  },
  {
   "cell_type": "code",
   "execution_count": 108,
   "metadata": {},
   "outputs": [
    {
     "name": "stdout",
     "output_type": "stream",
     "text": [
      "integrating dimension 0: r from 0.0 to 75.0\n",
      "integrating dimension 1: theta from 0.0 to 3.141592653589793\n",
      "integrating dimension 2: phi from 0.0 to 6.283185307179586\n"
     ]
    },
    {
     "data": {
      "text/plain": [
       "0.9999999999999997"
      ]
     },
     "execution_count": 108,
     "metadata": {},
     "output_type": "execute_result"
    }
   ],
   "source": [
    "mysphere_sph.normalize().integrate_all_dimensions(vocal=True)"
   ]
  },
  {
   "cell_type": "code",
   "execution_count": 109,
   "metadata": {},
   "outputs": [
    {
     "name": "stdout",
     "output_type": "stream",
     "text": [
      "integrating dimension 0: r from 0.0 to 75.0\n",
      "integrating dimension 1: theta from 0.0 to 3.141592653589793\n",
      "integrating dimension 2: phi from 0.0 to 6.283185307179586\n"
     ]
    },
    {
     "data": {
      "text/plain": [
       "255.0513484401652"
      ]
     },
     "execution_count": 109,
     "metadata": {},
     "output_type": "execute_result"
    }
   ],
   "source": [
    "mysphere_sph.normalize_abs2().integrate_all_dimensions(vocal=True)"
   ]
  },
  {
   "cell_type": "code",
   "execution_count": 110,
   "metadata": {},
   "outputs": [
    {
     "name": "stdout",
     "output_type": "stream",
     "text": [
      "integrating dimension 0: r from 0.0 to 75.0\n",
      "integrating dimension 1: theta from 0.0 to 3.141592653589793\n",
      "integrating dimension 2: phi from 0.0 to 6.283185307179586\n"
     ]
    },
    {
     "data": {
      "text/plain": [
       "0.9999999999999993"
      ]
     },
     "execution_count": 110,
     "metadata": {},
     "output_type": "execute_result"
    }
   ],
   "source": [
    "(abs(mysphere_sph.normalize_abs2())**2).integrate_all_dimensions(vocal=True)"
   ]
  },
  {
   "cell_type": "code",
   "execution_count": 111,
   "metadata": {},
   "outputs": [
    {
     "data": {
      "text/plain": [
       "65449.84694978735"
      ]
     },
     "execution_count": 111,
     "metadata": {},
     "output_type": "execute_result"
    }
   ],
   "source": [
    "4/3*np.pi*50**3 / 8"
   ]
  },
  {
   "cell_type": "code",
   "execution_count": null,
   "metadata": {},
   "outputs": [],
   "source": []
  }
 ],
 "metadata": {
  "kernelspec": {
   "display_name": "Python 3",
   "language": "python",
   "name": "python3"
  },
  "language_info": {
   "codemirror_mode": {
    "name": "ipython",
    "version": 3
   },
   "file_extension": ".py",
   "mimetype": "text/x-python",
   "name": "python",
   "nbconvert_exporter": "python",
   "pygments_lexer": "ipython3",
   "version": "3.10.12"
  }
 },
 "nbformat": 4,
 "nbformat_minor": 2
}
