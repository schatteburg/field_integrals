{
 "cells": [
  {
   "cell_type": "code",
   "execution_count": 1,
   "metadata": {},
   "outputs": [],
   "source": [
    "import numpy as np\n",
    "from matplotlib import pyplot as plt\n",
    "from importlib import reload\n",
    "import overlap_integrals as oi"
   ]
  },
  {
   "cell_type": "code",
   "execution_count": 74,
   "metadata": {},
   "outputs": [
    {
     "data": {
      "text/plain": [
       "<module 'overlap_integrals' from 'e:\\\\UserData\\\\Workspace\\\\code\\\\git\\\\overlap_integrals\\\\overlap_integrals.py'>"
      ]
     },
     "execution_count": 74,
     "metadata": {},
     "output_type": "execute_result"
    }
   ],
   "source": [
    "reload(oi)"
   ]
  },
  {
   "cell_type": "code",
   "execution_count": 75,
   "metadata": {},
   "outputs": [],
   "source": [
    "xs = np.linspace(0,100,200)\n",
    "ys = np.linspace(0,100,201)\n",
    "zs = np.linspace(0,100,203)\n",
    "# Xs, Ys = np.meshgrid(xs, ys, indexing='ij')\n",
    "Xs, Ys, Zs = np.meshgrid(xs, ys, zs, indexing='ij')"
   ]
  },
  {
   "cell_type": "code",
   "execution_count": 81,
   "metadata": {},
   "outputs": [],
   "source": [
    "# fw_gauss = np.exp(-(Xs**2+Ys**2))/2**2\n",
    "# mygauss = oi.field(fieldvalues=fw_gauss, var=[xs,ys], coord_sys=\"cartesian\")\n",
    "fw_gauss = np.exp(-(Xs**2+Ys**2+Zs**2))/2**2\n",
    "mygauss = oi.field(fieldvalues=fw_gauss, var=[xs,ys,zs], coord_sys=\"cartesian\")\n",
    "fw_sphere = 1* (np.sqrt(Xs**2+Ys**2+Zs**2) <= 50)\n",
    "mysphere = oi.field(fieldvalues=fw_sphere, var=[xs,ys,zs], coord_sys=\"cartesian\")"
   ]
  },
  {
   "cell_type": "code",
   "execution_count": 82,
   "metadata": {},
   "outputs": [
    {
     "data": {
      "text/plain": [
       "field in 3D, cartesian coordinate system, with shape (200, 201, 203)"
      ]
     },
     "execution_count": 82,
     "metadata": {},
     "output_type": "execute_result"
    }
   ],
   "source": [
    "mygauss + mysphere\n",
    "mygauss - mysphere\n",
    "mygauss * mysphere\n",
    "mygauss / mysphere"
   ]
  },
  {
   "cell_type": "code",
   "execution_count": 60,
   "metadata": {},
   "outputs": [
    {
     "name": "stdout",
     "output_type": "stream",
     "text": [
      "integrating dimension 2\n",
      "integrating dimension 1\n",
      "integrating dimension 0\n"
     ]
    },
    {
     "data": {
      "text/plain": [
       "0.1740102499009909"
      ]
     },
     "execution_count": 60,
     "metadata": {},
     "output_type": "execute_result"
    }
   ],
   "source": [
    "mygauss.integrate_all_dimensions(vocal=True)"
   ]
  },
  {
   "cell_type": "code",
   "execution_count": 61,
   "metadata": {},
   "outputs": [
    {
     "name": "stdout",
     "output_type": "stream",
     "text": [
      "integrating dimension 2\n",
      "integrating dimension 1\n",
      "integrating dimension 0\n"
     ]
    },
    {
     "data": {
      "text/plain": [
       "0.9999999999999999"
      ]
     },
     "execution_count": 61,
     "metadata": {},
     "output_type": "execute_result"
    }
   ],
   "source": [
    "mygauss.normalize().integrate_all_dimensions(vocal=True)"
   ]
  },
  {
   "cell_type": "code",
   "execution_count": 62,
   "metadata": {},
   "outputs": [
    {
     "data": {
      "text/plain": [
       "1.4031041346855606"
      ]
     },
     "execution_count": 62,
     "metadata": {},
     "output_type": "execute_result"
    }
   ],
   "source": [
    "mygauss.normalize_abs2().integrate_all_dimensions()"
   ]
  },
  {
   "cell_type": "code",
   "execution_count": 63,
   "metadata": {},
   "outputs": [
    {
     "data": {
      "text/plain": [
       "0.9999999999999999"
      ]
     },
     "execution_count": 63,
     "metadata": {},
     "output_type": "execute_result"
    }
   ],
   "source": [
    "(abs(mygauss.normalize_abs2())**2).integrate_all_dimensions()"
   ]
  },
  {
   "cell_type": "code",
   "execution_count": 65,
   "metadata": {},
   "outputs": [
    {
     "data": {
      "text/plain": [
       "False"
      ]
     },
     "execution_count": 65,
     "metadata": {},
     "output_type": "execute_result"
    }
   ],
   "source": [
    "mygauss == mysphere"
   ]
  },
  {
   "cell_type": "code",
   "execution_count": 28,
   "metadata": {},
   "outputs": [
    {
     "ename": "NameError",
     "evalue": "name 'mysphere' is not defined",
     "output_type": "error",
     "traceback": [
      "\u001b[1;31m---------------------------------------------------------------------------\u001b[0m",
      "\u001b[1;31mNameError\u001b[0m                                 Traceback (most recent call last)",
      "\u001b[1;32m~\\AppData\\Local\\Temp/ipykernel_332/3854796349.py\u001b[0m in \u001b[0;36m<module>\u001b[1;34m\u001b[0m\n\u001b[1;32m----> 1\u001b[1;33m \u001b[0mmysphere\u001b[0m\u001b[1;33m.\u001b[0m\u001b[0mintegrate_all_dimensions\u001b[0m\u001b[1;33m(\u001b[0m\u001b[1;33m)\u001b[0m\u001b[1;33m\u001b[0m\u001b[1;33m\u001b[0m\u001b[0m\n\u001b[0m",
      "\u001b[1;31mNameError\u001b[0m: name 'mysphere' is not defined"
     ]
    }
   ],
   "source": [
    "mysphere.integrate_all_dimensions()"
   ]
  },
  {
   "cell_type": "code",
   "execution_count": 91,
   "metadata": {},
   "outputs": [
    {
     "data": {
      "text/plain": [
       "65449.84694978735"
      ]
     },
     "execution_count": 91,
     "metadata": {},
     "output_type": "execute_result"
    }
   ],
   "source": [
    "4/3*np.pi*50**3 / 8"
   ]
  },
  {
   "cell_type": "code",
   "execution_count": 2,
   "metadata": {},
   "outputs": [],
   "source": [
    "Rmax = 75\n",
    "rs = np.linspace(0,Rmax,500)\n",
    "phis = np.linspace(0,2*np.pi,501)\n",
    "zs = np.linspace(0,100,403)\n",
    "Rs, Phis, Zs = np.meshgrid(rs, phis, zs, indexing='ij')"
   ]
  },
  {
   "cell_type": "code",
   "execution_count": 97,
   "metadata": {},
   "outputs": [
    {
     "data": {
      "text/plain": [
       "<module 'overlap_integrals' from '/home/tom/Documents/git-repos/overlap_integrals/overlap_integrals.py'>"
      ]
     },
     "execution_count": 97,
     "metadata": {},
     "output_type": "execute_result"
    }
   ],
   "source": [
    "reload(oi)"
   ]
  },
  {
   "cell_type": "code",
   "execution_count": 3,
   "metadata": {},
   "outputs": [],
   "source": [
    "fw_cyl = 1* (Rs <= 50) & (Zs <= 20)\n",
    "mysphere_cyl = oi.field(fieldvalues=fw_cyl, var=[rs,phis,zs], coord_sys=\"cylindrical\")"
   ]
  },
  {
   "cell_type": "code",
   "execution_count": 4,
   "metadata": {},
   "outputs": [
    {
     "name": "stdout",
     "output_type": "stream",
     "text": [
      "integrating dimension 2\n",
      "integrating dimension 1\n",
      "integrating dimension 0\n"
     ]
    },
    {
     "data": {
      "text/plain": [
       "157117.09935922787"
      ]
     },
     "execution_count": 4,
     "metadata": {},
     "output_type": "execute_result"
    }
   ],
   "source": [
    "mysphere_cyl.integrate_all_dimensions()"
   ]
  },
  {
   "cell_type": "code",
   "execution_count": 5,
   "metadata": {},
   "outputs": [
    {
     "data": {
      "text/plain": [
       "157079.63267948967"
      ]
     },
     "execution_count": 5,
     "metadata": {},
     "output_type": "execute_result"
    }
   ],
   "source": [
    "np.pi*50**2*20"
   ]
  },
  {
   "cell_type": "code",
   "execution_count": null,
   "metadata": {},
   "outputs": [],
   "source": []
  }
 ],
 "metadata": {
  "kernelspec": {
   "display_name": "Python 3",
   "language": "python",
   "name": "python3"
  },
  "language_info": {
   "codemirror_mode": {
    "name": "ipython",
    "version": 3
   },
   "file_extension": ".py",
   "mimetype": "text/x-python",
   "name": "python",
   "nbconvert_exporter": "python",
   "pygments_lexer": "ipython3",
   "version": "3.9.5"
  }
 },
 "nbformat": 4,
 "nbformat_minor": 2
}
