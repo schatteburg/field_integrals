{
 "cells": [
  {
   "cell_type": "code",
   "execution_count": 1,
   "metadata": {},
   "outputs": [],
   "source": [
    "import numpy as np\n",
    "from matplotlib import pyplot as plt\n",
    "from importlib import reload\n",
    "import overlap_integrals as oi"
   ]
  },
  {
   "cell_type": "code",
   "execution_count": 11,
   "metadata": {},
   "outputs": [
    {
     "data": {
      "text/plain": [
       "<module 'overlap_integrals' from '/home/tom/Documents/git-repos/overlap_integrals/overlap_integrals.py'>"
      ]
     },
     "execution_count": 11,
     "metadata": {},
     "output_type": "execute_result"
    }
   ],
   "source": [
    "reload(oi)"
   ]
  },
  {
   "cell_type": "code",
   "execution_count": 2,
   "metadata": {},
   "outputs": [],
   "source": [
    "xs = np.linspace(0,100,200)\n",
    "ys = np.linspace(0,100,201)\n",
    "zs = np.linspace(0,100,203)\n",
    "# Xs, Ys = np.meshgrid(xs, ys, indexing='ij')\n",
    "Xs, Ys, Zs = np.meshgrid(xs, ys, zs, indexing='ij')"
   ]
  },
  {
   "cell_type": "code",
   "execution_count": 3,
   "metadata": {},
   "outputs": [],
   "source": [
    "# fw_gauss = np.exp(-(Xs**2+Ys**2))/2**2\n",
    "# mygauss = oi.field(fieldvalues=fw_gauss, var=[xs,ys], coord_sys=\"cartesian\")\n",
    "# mygauss = oi.field(fieldvalues=fw_gauss, coordinates={\"x\": xs, \"y\": ys}, vocal=True)\n",
    "fw_gauss = np.exp(-(Xs**2+Ys**2+Zs**2))/2**2\n",
    "# mygauss = oi.field(fieldvalues=fw_gauss, coordinates=[xs,ys,zs], dims=[\"x\",'y','z'])\n",
    "mygauss = oi.field(fieldvalues=fw_gauss, coordinates={\"x\": xs, \"y\": ys, \"z\": zs})\n",
    "fw_sphere = 1* (np.sqrt(Xs**2+Ys**2+Zs**2) <= 50)\n",
    "# mysphere = oi.field(fieldvalues=fw_sphere, coordinates=[xs,ys,zs], coord_sys=\"cartesian\")\n",
    "mysphere = oi.field(fieldvalues=fw_sphere, coordinates={\"x\": xs, \"y\": ys, \"z\": zs})"
   ]
  },
  {
   "cell_type": "code",
   "execution_count": 4,
   "metadata": {},
   "outputs": [
    {
     "name": "stderr",
     "output_type": "stream",
     "text": [
      "/home/tom/Documents/git-repos/overlap_integrals/overlap_integrals.py:239: RuntimeWarning: invalid value encountered in divide\n",
      "  return field(self.values/other.values, self.coordinates)\n"
     ]
    },
    {
     "data": {
      "text/plain": [
       "field in 3D, cartesian coordinates ['x', 'y', 'z'] with shape (200, 201, 203)"
      ]
     },
     "execution_count": 4,
     "metadata": {},
     "output_type": "execute_result"
    }
   ],
   "source": [
    "mygauss + mysphere\n",
    "mygauss - mysphere\n",
    "mygauss * mysphere\n",
    "mygauss / mysphere"
   ]
  },
  {
   "cell_type": "code",
   "execution_count": 5,
   "metadata": {},
   "outputs": [
    {
     "name": "stdout",
     "output_type": "stream",
     "text": [
      "integrating dimension 0: x from 0.0 to 100.0\n",
      "integrating dimension 1: y from 0.0 to 100.0\n",
      "integrating dimension 2: z from 0.0 to 100.0\n"
     ]
    },
    {
     "data": {
      "text/plain": [
       "0.17401024990099084"
      ]
     },
     "execution_count": 5,
     "metadata": {},
     "output_type": "execute_result"
    }
   ],
   "source": [
    "mygauss.integrate_all_dimensions(vocal=True)"
   ]
  },
  {
   "cell_type": "code",
   "execution_count": 6,
   "metadata": {},
   "outputs": [
    {
     "name": "stdout",
     "output_type": "stream",
     "text": [
      "integrating dimension 0: x from 0.0 to 100.0\n",
      "integrating dimension 1: y from 0.0 to 100.0\n",
      "integrating dimension 2: z from 0.0 to 100.0\n"
     ]
    },
    {
     "data": {
      "text/plain": [
       "1.0000000000000002"
      ]
     },
     "execution_count": 6,
     "metadata": {},
     "output_type": "execute_result"
    }
   ],
   "source": [
    "mygauss.normalize().integrate_all_dimensions(vocal=True)"
   ]
  },
  {
   "cell_type": "code",
   "execution_count": 7,
   "metadata": {},
   "outputs": [
    {
     "data": {
      "text/plain": [
       "1.4031041346855608"
      ]
     },
     "execution_count": 7,
     "metadata": {},
     "output_type": "execute_result"
    }
   ],
   "source": [
    "mygauss.normalize_abs2().integrate_all_dimensions()"
   ]
  },
  {
   "cell_type": "code",
   "execution_count": 8,
   "metadata": {},
   "outputs": [
    {
     "data": {
      "text/plain": [
       "1.0"
      ]
     },
     "execution_count": 8,
     "metadata": {},
     "output_type": "execute_result"
    }
   ],
   "source": [
    "(abs(mygauss.normalize_abs2())**2).integrate_all_dimensions()"
   ]
  },
  {
   "cell_type": "code",
   "execution_count": 9,
   "metadata": {},
   "outputs": [
    {
     "data": {
      "text/plain": [
       "False"
      ]
     },
     "execution_count": 9,
     "metadata": {},
     "output_type": "execute_result"
    }
   ],
   "source": [
    "mygauss == mysphere"
   ]
  },
  {
   "cell_type": "code",
   "execution_count": 10,
   "metadata": {},
   "outputs": [
    {
     "data": {
      "text/plain": [
       "65447.736827702865"
      ]
     },
     "execution_count": 10,
     "metadata": {},
     "output_type": "execute_result"
    }
   ],
   "source": [
    "mysphere.integrate_all_dimensions()"
   ]
  },
  {
   "cell_type": "code",
   "execution_count": 11,
   "metadata": {},
   "outputs": [
    {
     "data": {
      "text/plain": [
       "65449.84694978735"
      ]
     },
     "execution_count": 11,
     "metadata": {},
     "output_type": "execute_result"
    }
   ],
   "source": [
    "4/3*np.pi*50**3 / 8"
   ]
  },
  {
   "cell_type": "code",
   "execution_count": 12,
   "metadata": {},
   "outputs": [],
   "source": [
    "Rmax = 75\n",
    "rs = np.linspace(0,Rmax,200)\n",
    "phis = np.linspace(0,2*np.pi,201)\n",
    "zs = np.linspace(0,100,203)\n",
    "Rs, Phis, Zs = np.meshgrid(rs, phis, zs, indexing='ij')"
   ]
  },
  {
   "cell_type": "code",
   "execution_count": 15,
   "metadata": {},
   "outputs": [
    {
     "data": {
      "text/plain": [
       "<module 'overlap_integrals' from '/home/tom/Documents/git-repos/overlap_integrals/overlap_integrals.py'>"
      ]
     },
     "execution_count": 15,
     "metadata": {},
     "output_type": "execute_result"
    }
   ],
   "source": [
    "reload(oi)"
   ]
  },
  {
   "cell_type": "code",
   "execution_count": 13,
   "metadata": {},
   "outputs": [
    {
     "name": "stdout",
     "output_type": "stream",
     "text": [
      "inputs are valid\n",
      "field in 3D, cylindrical coordinates ['r', 'phi', 'z'] with shape (200, 201, 203)\n"
     ]
    }
   ],
   "source": [
    "fw_cyl = 1* (Rs <= 50) & (Zs <= 20)\n",
    "mysphere_cyl = oi.field(fieldvalues=fw_cyl, coordinates={\"r\": rs, \"phi\": phis, \"z\": zs}, vocal=True)\n",
    "# mysphere_cyl = oi.field(fieldvalues=fw_cyl, var=[rs,phis,zs], coord_sys=\"cylindrical\")"
   ]
  },
  {
   "cell_type": "code",
   "execution_count": 14,
   "metadata": {},
   "outputs": [
    {
     "name": "stdout",
     "output_type": "stream",
     "text": [
      "integrating dimension 0: r from 0.0 to 75.0\n",
      "integrating dimension 1: phi from 0.0 to 6.283185307179586\n",
      "integrating dimension 2: z from 0.0 to 100.0\n"
     ]
    },
    {
     "data": {
      "text/plain": [
       "157070.80610784283"
      ]
     },
     "execution_count": 14,
     "metadata": {},
     "output_type": "execute_result"
    }
   ],
   "source": [
    "mysphere_cyl.integrate_all_dimensions(vocal=True)"
   ]
  },
  {
   "cell_type": "code",
   "execution_count": 15,
   "metadata": {},
   "outputs": [
    {
     "name": "stdout",
     "output_type": "stream",
     "text": [
      "integrating dimension 0: r from 0.0 to 75.0\n",
      "integrating dimension 1: z from 0.0 to 100.0\n",
      "integrating dimension 2: phi from 0.0 to 6.283185307179586\n"
     ]
    },
    {
     "data": {
      "text/plain": [
       "157070.80610784225"
      ]
     },
     "execution_count": 15,
     "metadata": {},
     "output_type": "execute_result"
    }
   ],
   "source": [
    "mysphere_cyl.integrate_dimensions([\"r\",'z','phi'], vocal=True)"
   ]
  },
  {
   "cell_type": "code",
   "execution_count": 16,
   "metadata": {},
   "outputs": [
    {
     "data": {
      "text/plain": [
       "0.9999999999999925"
      ]
     },
     "execution_count": 16,
     "metadata": {},
     "output_type": "execute_result"
    }
   ],
   "source": [
    "mysphere_cyl.normalize().integrate_all_dimensions()"
   ]
  },
  {
   "cell_type": "code",
   "execution_count": 17,
   "metadata": {},
   "outputs": [
    {
     "data": {
      "text/plain": [
       "396.32159429917715"
      ]
     },
     "execution_count": 17,
     "metadata": {},
     "output_type": "execute_result"
    }
   ],
   "source": [
    "mysphere_cyl.normalize_abs2().integrate_all_dimensions()"
   ]
  },
  {
   "cell_type": "code",
   "execution_count": 18,
   "metadata": {},
   "outputs": [
    {
     "data": {
      "text/plain": [
       "0.9999999999999925"
      ]
     },
     "execution_count": 18,
     "metadata": {},
     "output_type": "execute_result"
    }
   ],
   "source": [
    "(abs(mysphere_cyl.normalize_abs2())**2).integrate_all_dimensions()"
   ]
  },
  {
   "cell_type": "code",
   "execution_count": 19,
   "metadata": {},
   "outputs": [
    {
     "data": {
      "text/plain": [
       "157079.63267948967"
      ]
     },
     "execution_count": 19,
     "metadata": {},
     "output_type": "execute_result"
    }
   ],
   "source": [
    "np.pi*50**2*20"
   ]
  },
  {
   "cell_type": "code",
   "execution_count": 20,
   "metadata": {},
   "outputs": [
    {
     "data": {
      "text/plain": [
       "<module 'overlap_integrals' from '/home/tom/Documents/git-repos/overlap_integrals/overlap_integrals.py'>"
      ]
     },
     "execution_count": 20,
     "metadata": {},
     "output_type": "execute_result"
    }
   ],
   "source": [
    "reload(oi)"
   ]
  },
  {
   "cell_type": "code",
   "execution_count": 21,
   "metadata": {},
   "outputs": [],
   "source": [
    "Rmax = 75\n",
    "rs = np.linspace(0,Rmax,200)\n",
    "thetas = np.linspace(0,np.pi,203)\n",
    "phis = np.linspace(0,2*np.pi,201)\n",
    "Rs, Thetas, Phis = np.meshgrid(rs,thetas, phis, indexing='ij')"
   ]
  },
  {
   "cell_type": "code",
   "execution_count": 22,
   "metadata": {},
   "outputs": [
    {
     "name": "stdout",
     "output_type": "stream",
     "text": [
      "inputs are valid\n",
      "field in 3D, spherical coordinates ['r', 'theta', 'phi'] with shape (200, 203, 201)\n"
     ]
    }
   ],
   "source": [
    "fw_sph = 1* (Rs <= 50) & (Thetas <= np.pi/2) & (Phis <= np.pi/2)\n",
    "mysphere_sph = oi.field(fieldvalues=fw_sph, coordinates={\"r\": rs, \"theta\": thetas, \"phi\": phis}, vocal=True)"
   ]
  },
  {
   "cell_type": "code",
   "execution_count": 23,
   "metadata": {},
   "outputs": [
    {
     "name": "stdout",
     "output_type": "stream",
     "text": [
      "integrating dimension 0: phi from 0.0 to 6.283185307179586\n",
      "inputs are valid\n",
      "field in 2D, spherical coordinates ['r', 'theta'] with shape (200, 203)\n",
      "integrating dimension 0: theta from 0.0 to 3.141592653589793\n",
      "inputs are valid\n",
      "field in 1D, spherical coordinates ['r'] with shape (200,)\n",
      "integrating dimension 0: r from 0.0 to 75.0\n"
     ]
    },
    {
     "data": {
      "text/plain": [
       "65051.19034114659"
      ]
     },
     "execution_count": 23,
     "metadata": {},
     "output_type": "execute_result"
    }
   ],
   "source": [
    "mysphere_sph.integrate_dimensions(['phi'], vocal=True).integrate_dimensions([\"theta\"], vocal=True).integrate_dimensions([\"r\"], vocal=True)"
   ]
  },
  {
   "cell_type": "code",
   "execution_count": 24,
   "metadata": {},
   "outputs": [
    {
     "name": "stdout",
     "output_type": "stream",
     "text": [
      "integrating dimension 0: theta from 0.0 to 3.141592653589793\n",
      "inputs are valid\n",
      "field in 2D, spherical coordinates ['r', 'phi'] with shape (200, 201)\n",
      "integrating dimension 0: r from 0.0 to 75.0\n",
      "integrating dimension 1: phi from 0.0 to 6.283185307179586\n"
     ]
    },
    {
     "data": {
      "text/plain": [
       "65051.190341146576"
      ]
     },
     "execution_count": 24,
     "metadata": {},
     "output_type": "execute_result"
    }
   ],
   "source": [
    "mysphere_sph.integrate_dimensions([\"theta\"], vocal=True).integrate_dimensions([\"r\",'phi'], vocal=True)"
   ]
  },
  {
   "cell_type": "code",
   "execution_count": 25,
   "metadata": {},
   "outputs": [
    {
     "name": "stdout",
     "output_type": "stream",
     "text": [
      "integrating dimension 0: r from 0.0 to 75.0\n",
      "integrating dimension 1: theta from 0.0 to 3.141592653589793\n",
      "integrating dimension 2: phi from 0.0 to 6.283185307179586\n"
     ]
    },
    {
     "data": {
      "text/plain": [
       "1953.990472134063"
      ]
     },
     "execution_count": 25,
     "metadata": {},
     "output_type": "execute_result"
    }
   ],
   "source": [
    "mysphere_sph.integrate_all_dimensions(vocal=True)"
   ]
  },
  {
   "cell_type": "code",
   "execution_count": 26,
   "metadata": {},
   "outputs": [
    {
     "name": "stdout",
     "output_type": "stream",
     "text": [
      "integrating dimension 0: r from 0.0 to 75.0\n",
      "integrating dimension 1: theta from 0.0 to 3.141592653589793\n",
      "integrating dimension 2: phi from 0.0 to 6.283185307179586\n"
     ]
    },
    {
     "data": {
      "text/plain": [
       "1.0"
      ]
     },
     "execution_count": 26,
     "metadata": {},
     "output_type": "execute_result"
    }
   ],
   "source": [
    "mysphere_sph.normalize().integrate_all_dimensions(vocal=True)"
   ]
  },
  {
   "cell_type": "code",
   "execution_count": 27,
   "metadata": {},
   "outputs": [
    {
     "name": "stdout",
     "output_type": "stream",
     "text": [
      "integrating dimension 0: r from 0.0 to 75.0\n",
      "integrating dimension 1: theta from 0.0 to 3.141592653589793\n",
      "integrating dimension 2: phi from 0.0 to 6.283185307179586\n"
     ]
    },
    {
     "data": {
      "text/plain": [
       "44.20396443910959"
      ]
     },
     "execution_count": 27,
     "metadata": {},
     "output_type": "execute_result"
    }
   ],
   "source": [
    "mysphere_sph.normalize_abs2().integrate_all_dimensions(vocal=True)"
   ]
  },
  {
   "cell_type": "code",
   "execution_count": 28,
   "metadata": {},
   "outputs": [
    {
     "name": "stdout",
     "output_type": "stream",
     "text": [
      "integrating dimension 0: r from 0.0 to 75.0\n",
      "integrating dimension 1: theta from 0.0 to 3.141592653589793\n",
      "integrating dimension 2: phi from 0.0 to 6.283185307179586\n"
     ]
    },
    {
     "data": {
      "text/plain": [
       "1.0"
      ]
     },
     "execution_count": 28,
     "metadata": {},
     "output_type": "execute_result"
    }
   ],
   "source": [
    "(abs(mysphere_sph.normalize_abs2())**2).integrate_all_dimensions(vocal=True)"
   ]
  },
  {
   "cell_type": "code",
   "execution_count": 29,
   "metadata": {},
   "outputs": [
    {
     "data": {
      "text/plain": [
       "65449.84694978735"
      ]
     },
     "execution_count": 29,
     "metadata": {},
     "output_type": "execute_result"
    }
   ],
   "source": [
    "4/3*np.pi*50**3 / 8"
   ]
  },
  {
   "cell_type": "code",
   "execution_count": null,
   "metadata": {},
   "outputs": [],
   "source": []
  }
 ],
 "metadata": {
  "kernelspec": {
   "display_name": "Python 3",
   "language": "python",
   "name": "python3"
  },
  "language_info": {
   "codemirror_mode": {
    "name": "ipython",
    "version": 3
   },
   "file_extension": ".py",
   "mimetype": "text/x-python",
   "name": "python",
   "nbconvert_exporter": "python",
   "pygments_lexer": "ipython3",
   "version": "3.10.12"
  }
 },
 "nbformat": 4,
 "nbformat_minor": 2
}
