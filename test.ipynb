{
 "cells": [
  {
   "cell_type": "code",
   "execution_count": 30,
   "metadata": {},
   "outputs": [],
   "source": [
    "import numpy as np\n",
    "from importlib import reload\n",
    "import overlap_integrals as oi"
   ]
  },
  {
   "cell_type": "code",
   "execution_count": 31,
   "metadata": {},
   "outputs": [
    {
     "data": {
      "text/plain": [
       "<module 'overlap_integrals' from '/home/tom/Documents/git-repos/overlap_integrals/overlap_integrals.py'>"
      ]
     },
     "execution_count": 31,
     "metadata": {},
     "output_type": "execute_result"
    }
   ],
   "source": [
    "reload(oi)"
   ]
  },
  {
   "cell_type": "code",
   "execution_count": 41,
   "metadata": {},
   "outputs": [],
   "source": [
    "xs = np.linspace(0,100,20)\n",
    "ys = np.linspace(0,100,21)\n",
    "zs = np.linspace(0,100,23)\n",
    "Xs, Ys = np.meshgrid(xs, ys, indexing='ij')\n",
    "# Xs, Ys, Zs = np.meshgrid(xs, ys, zs, indexing='ij')"
   ]
  },
  {
   "cell_type": "code",
   "execution_count": 42,
   "metadata": {},
   "outputs": [
    {
     "data": {
      "text/plain": [
       "(20, 21)"
      ]
     },
     "execution_count": 42,
     "metadata": {},
     "output_type": "execute_result"
    }
   ],
   "source": [
    "Xs.shape"
   ]
  },
  {
   "cell_type": "code",
   "execution_count": 47,
   "metadata": {},
   "outputs": [],
   "source": [
    "testlist = [xs,ys]"
   ]
  },
  {
   "cell_type": "code",
   "execution_count": 48,
   "metadata": {},
   "outputs": [
    {
     "data": {
      "text/plain": [
       "array([  0.,   5.,  10.,  15.,  20.,  25.,  30.,  35.,  40.,  45.,  50.,\n",
       "        55.,  60.,  65.,  70.,  75.,  80.,  85.,  90.,  95., 100.])"
      ]
     },
     "execution_count": 48,
     "metadata": {},
     "output_type": "execute_result"
    }
   ],
   "source": [
    "testlist[-1]"
   ]
  },
  {
   "cell_type": "code",
   "execution_count": 43,
   "metadata": {},
   "outputs": [],
   "source": [
    "fw = np.exp(-(Xs**2+Ys**2))/2**2\n",
    "mygauss = oi.field(fieldvalues=fw, var=[xs,ys], coord_sys=\"cartesian\")"
   ]
  },
  {
   "cell_type": "code",
   "execution_count": 44,
   "metadata": {},
   "outputs": [
    {
     "ename": "ValueError",
     "evalue": "Number of dimensions of inputs don't match:\nlen(fieldvalues.shape) = 2;\tlen(var) = 1.",
     "output_type": "error",
     "traceback": [
      "\u001b[0;31m---------------------------------------------------------------------------\u001b[0m",
      "\u001b[0;31mValueError\u001b[0m                                Traceback (most recent call last)",
      "\u001b[1;32m/home/tom/Documents/git-repos/overlap_integrals/test.ipynb Cell 8\u001b[0m line \u001b[0;36m1\n\u001b[0;32m----> <a href='vscode-notebook-cell:/home/tom/Documents/git-repos/overlap_integrals/test.ipynb#X13sZmlsZQ%3D%3D?line=0'>1</a>\u001b[0m mygauss\u001b[39m.\u001b[39;49mintegrate_area()\n",
      "File \u001b[0;32m~/Documents/git-repos/overlap_integrals/overlap_integrals.py:32\u001b[0m, in \u001b[0;36mfield.integrate_area\u001b[0;34m(self, afield)\u001b[0m\n\u001b[1;32m     30\u001b[0m \u001b[39mdef\u001b[39;00m \u001b[39mintegrate_area\u001b[39m(\u001b[39mself\u001b[39m, afield \u001b[39m=\u001b[39m \u001b[39mNone\u001b[39;00m):\n\u001b[1;32m     31\u001b[0m     \u001b[39mif\u001b[39;00m afield \u001b[39mis\u001b[39;00m \u001b[39mNone\u001b[39;00m:\n\u001b[0;32m---> 32\u001b[0m         \u001b[39mreturn\u001b[39;00m \u001b[39mself\u001b[39;49m\u001b[39m.\u001b[39;49mintegrate_area(afield\u001b[39m=\u001b[39;49m\u001b[39mself\u001b[39;49m)\n\u001b[1;32m     34\u001b[0m     \u001b[39mif\u001b[39;00m afield\u001b[39m.\u001b[39mndims \u001b[39m==\u001b[39m \u001b[39m1\u001b[39m:\n\u001b[1;32m     35\u001b[0m         \u001b[39mif\u001b[39;00m afield\u001b[39m.\u001b[39mcs \u001b[39m==\u001b[39m \u001b[39m\"\u001b[39m\u001b[39mcartesian\u001b[39m\u001b[39m\"\u001b[39m:\n",
      "File \u001b[0;32m~/Documents/git-repos/overlap_integrals/overlap_integrals.py:40\u001b[0m, in \u001b[0;36mfield.integrate_area\u001b[0;34m(self, afield)\u001b[0m\n\u001b[1;32m     38\u001b[0m         \u001b[39mraise\u001b[39;00m \u001b[39mNotImplementedError\u001b[39;00m(\u001b[39mf\u001b[39m\u001b[39m\"\u001b[39m\u001b[39mCoordinate system \u001b[39m\u001b[39m{\u001b[39;00mafield\u001b[39m.\u001b[39mcs\u001b[39m}\u001b[39;00m\u001b[39m is not implemented.\u001b[39m\u001b[39m\"\u001b[39m)\n\u001b[1;32m     39\u001b[0m \u001b[39melse\u001b[39;00m:\n\u001b[0;32m---> 40\u001b[0m     \u001b[39mreturn\u001b[39;00m \u001b[39mself\u001b[39m\u001b[39m.\u001b[39mintegrate_area(field(afield\u001b[39m.\u001b[39;49mvalues, afield\u001b[39m.\u001b[39;49mvar[::\u001b[39m-\u001b[39;49m\u001b[39m2\u001b[39;49m], afield\u001b[39m.\u001b[39;49mcs))\n",
      "File \u001b[0;32m~/Documents/git-repos/overlap_integrals/overlap_integrals.py:12\u001b[0m, in \u001b[0;36mfield.__init__\u001b[0;34m(self, fieldvalues, var, coord_sys)\u001b[0m\n\u001b[1;32m      7\u001b[0m \u001b[39mdef\u001b[39;00m \u001b[39m__init__\u001b[39m(\u001b[39mself\u001b[39m, fieldvalues: np\u001b[39m.\u001b[39mndarray, var: \u001b[39mlist\u001b[39m[np\u001b[39m.\u001b[39mndarray], coord_sys: \u001b[39mstr\u001b[39m):\n\u001b[1;32m      8\u001b[0m     \u001b[39m# if not (type(fieldvalues) == np.ndarray and type(var)==)\u001b[39;00m\n\u001b[1;32m      9\u001b[0m \n\u001b[1;32m     10\u001b[0m     \u001b[39m# check number of dimensions match between inputs\u001b[39;00m\n\u001b[1;32m     11\u001b[0m     \u001b[39mif\u001b[39;00m \u001b[39mnot\u001b[39;00m \u001b[39mlen\u001b[39m(fieldvalues\u001b[39m.\u001b[39mshape) \u001b[39m==\u001b[39m \u001b[39mlen\u001b[39m(var):\n\u001b[0;32m---> 12\u001b[0m         \u001b[39mraise\u001b[39;00m \u001b[39mValueError\u001b[39;00m(\u001b[39mf\u001b[39m\u001b[39m\"\u001b[39m\u001b[39mNumber of dimensions of inputs don\u001b[39m\u001b[39m'\u001b[39m\u001b[39mt match:\u001b[39m\u001b[39m\\n\u001b[39;00m\u001b[39mlen(fieldvalues.shape) = \u001b[39m\u001b[39m{\u001b[39;00m\u001b[39mlen\u001b[39m(fieldvalues\u001b[39m.\u001b[39mshape)\u001b[39m}\u001b[39;00m\u001b[39m;\u001b[39m\u001b[39m\\t\u001b[39;00m\u001b[39mlen(var) = \u001b[39m\u001b[39m{\u001b[39;00m\u001b[39mlen\u001b[39m(var)\u001b[39m}\u001b[39;00m\u001b[39m.\u001b[39m\u001b[39m\"\u001b[39m)\n\u001b[1;32m     13\u001b[0m     \u001b[39melse\u001b[39;00m:\n\u001b[1;32m     14\u001b[0m         \u001b[39mself\u001b[39m\u001b[39m.\u001b[39mndims \u001b[39m=\u001b[39m \u001b[39mlen\u001b[39m(var)\n",
      "\u001b[0;31mValueError\u001b[0m: Number of dimensions of inputs don't match:\nlen(fieldvalues.shape) = 2;\tlen(var) = 1."
     ]
    }
   ],
   "source": [
    "mygauss.integrate_area()"
   ]
  },
  {
   "cell_type": "code",
   "execution_count": 36,
   "metadata": {},
   "outputs": [
    {
     "data": {
      "text/plain": [
       "(21, 20)"
      ]
     },
     "execution_count": 36,
     "metadata": {},
     "output_type": "execute_result"
    }
   ],
   "source": [
    "fw.shape"
   ]
  },
  {
   "cell_type": "code",
   "execution_count": 33,
   "metadata": {},
   "outputs": [
    {
     "data": {
      "text/plain": [
       "(20, 21)"
      ]
     },
     "execution_count": 33,
     "metadata": {},
     "output_type": "execute_result"
    }
   ],
   "source": [
    "tuple(v.size for v in [xs,ys])"
   ]
  }
 ],
 "metadata": {
  "kernelspec": {
   "display_name": "Python 3",
   "language": "python",
   "name": "python3"
  },
  "language_info": {
   "codemirror_mode": {
    "name": "ipython",
    "version": 3
   },
   "file_extension": ".py",
   "mimetype": "text/x-python",
   "name": "python",
   "nbconvert_exporter": "python",
   "pygments_lexer": "ipython3",
   "version": "3.10.12"
  }
 },
 "nbformat": 4,
 "nbformat_minor": 2
}
